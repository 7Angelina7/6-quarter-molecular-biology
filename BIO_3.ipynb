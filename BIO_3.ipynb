{
  "nbformat": 4,
  "nbformat_minor": 0,
  "metadata": {
    "colab": {
      "provenance": [],
      "gpuType": "T4"
    },
    "kernelspec": {
      "name": "python3",
      "display_name": "Python 3"
    },
    "language_info": {
      "name": "python"
    },
    "accelerator": "GPU"
  },
  "cells": [
    {
      "cell_type": "markdown",
      "source": [
        "HomeWork 3. Мутации.\n",
        "1. Возьмем небольшой кусок последовательности гена, с которым работали на предыдущих уроках. Внесем в него по очереди все типы мутаций (silence, missense, nonsense) и покажем их эффект."
      ],
      "metadata": {
        "id": "z6vjqPFfU7Fg"
      }
    },
    {
      "cell_type": "code",
      "source": [
        "!pip install biopython"
      ],
      "metadata": {
        "colab": {
          "base_uri": "https://localhost:8080/"
        },
        "id": "U1W7gxuGWee2",
        "outputId": "7b450a0f-2caf-4d48-cf15-cea21ff69e5e"
      },
      "execution_count": 1,
      "outputs": [
        {
          "output_type": "stream",
          "name": "stdout",
          "text": [
            "Collecting biopython\n",
            "  Downloading biopython-1.83-cp310-cp310-manylinux_2_17_x86_64.manylinux2014_x86_64.whl (3.1 MB)\n",
            "\u001b[2K     \u001b[90m━━━━━━━━━━━━━━━━━━━━━━━━━━━━━━━━━━━━━━━━\u001b[0m \u001b[32m3.1/3.1 MB\u001b[0m \u001b[31m11.6 MB/s\u001b[0m eta \u001b[36m0:00:00\u001b[0m\n",
            "\u001b[?25hRequirement already satisfied: numpy in /usr/local/lib/python3.10/dist-packages (from biopython) (1.23.5)\n",
            "Installing collected packages: biopython\n",
            "Successfully installed biopython-1.83\n"
          ]
        }
      ]
    },
    {
      "cell_type": "code",
      "execution_count": 3,
      "metadata": {
        "id": "C8yDYMulTd6q"
      },
      "outputs": [],
      "source": [
        "import pandas as pd\n",
        "from Bio import Entrez\n",
        "from Bio import SeqIO\n",
        "from Bio.Seq import MutableSeq\n",
        "from Bio.Seq import Seq\n",
        "from Bio.SeqRecord import SeqRecord\n",
        "from Bio.Seq import MutableSeq\n",
        "import time"
      ]
    },
    {
      "cell_type": "code",
      "source": [
        "from google.colab import drive"
      ],
      "metadata": {
        "id": "UtAuUk_yVVOf"
      },
      "execution_count": 4,
      "outputs": []
    },
    {
      "cell_type": "code",
      "source": [
        "drive.mount('/content/drive')"
      ],
      "metadata": {
        "colab": {
          "base_uri": "https://localhost:8080/"
        },
        "id": "AIPThaP5VUlf",
        "outputId": "dc603c1d-6c15-4e57-d299-a44f5d51813d"
      },
      "execution_count": 5,
      "outputs": [
        {
          "output_type": "stream",
          "name": "stdout",
          "text": [
            "Mounted at /content/drive\n"
          ]
        }
      ]
    },
    {
      "cell_type": "code",
      "source": [
        "gene = SeqIO.read('/content/drive/MyDrive/BIO/gene.fna', 'fasta')\n",
        "gene.seq"
      ],
      "metadata": {
        "colab": {
          "base_uri": "https://localhost:8080/"
        },
        "id": "kvStbuZmVUi-",
        "outputId": "cd7d985a-45b7-4347-b602-ef954b01332b"
      },
      "execution_count": 7,
      "outputs": [
        {
          "output_type": "execute_result",
          "data": {
            "text/plain": [
              "Seq('ATACAAGAGATGTGAGAAGCACCATAAAAGGCGTTGTGAGGAGTTGTGGGGGAG...GTC')"
            ]
          },
          "metadata": {},
          "execution_count": 7
        }
      ]
    },
    {
      "cell_type": "code",
      "source": [
        "# переходим с минуса на плюс-нить\n",
        "gene = gene.seq.complement()\n",
        "gene"
      ],
      "metadata": {
        "colab": {
          "base_uri": "https://localhost:8080/"
        },
        "id": "lXw6bBqodgCh",
        "outputId": "441a119b-584b-409e-d363-51455290a2f1"
      },
      "execution_count": 8,
      "outputs": [
        {
          "output_type": "execute_result",
          "data": {
            "text/plain": [
              "Seq('TATGTTCTCTACACTCTTCGTGGTATTTTCCGCAACACTCCTCAACACCCCCTC...CAG')"
            ]
          },
          "metadata": {},
          "execution_count": 8
        }
      ]
    },
    {
      "cell_type": "code",
      "source": [
        "# находим старт-кодон \"ATG\"\n",
        "start_codon_index = str(gene).find(\"ATG\")\n",
        "start_codon_index"
      ],
      "metadata": {
        "colab": {
          "base_uri": "https://localhost:8080/"
        },
        "id": "CBr8QkR9VUgi",
        "outputId": "36ceffc3-2b6c-4209-886b-04959588f710"
      },
      "execution_count": 9,
      "outputs": [
        {
          "output_type": "execute_result",
          "data": {
            "text/plain": [
              "1"
            ]
          },
          "metadata": {},
          "execution_count": 9
        }
      ]
    },
    {
      "cell_type": "code",
      "source": [
        "gene[start_codon_index:]"
      ],
      "metadata": {
        "colab": {
          "base_uri": "https://localhost:8080/"
        },
        "id": "0SlrZ4Y4cpKW",
        "outputId": "4554a4bd-541e-4bbd-a6cb-fdf6912c3376"
      },
      "execution_count": 10,
      "outputs": [
        {
          "output_type": "execute_result",
          "data": {
            "text/plain": [
              "Seq('ATGTTCTCTACACTCTTCGTGGTATTTTCCGCAACACTCCTCAACACCCCCTCA...CAG')"
            ]
          },
          "metadata": {},
          "execution_count": 10
        }
      ]
    },
    {
      "cell_type": "code",
      "source": [
        "# цепочка нуклеотидов со старт кодона\n",
        "dna_seq = gene[start_codon_index:]\n",
        "dna_seq"
      ],
      "metadata": {
        "colab": {
          "base_uri": "https://localhost:8080/"
        },
        "id": "O_IbsXFzVUeJ",
        "outputId": "5f8df114-f539-48e9-e254-2ccddb70880f"
      },
      "execution_count": 11,
      "outputs": [
        {
          "output_type": "execute_result",
          "data": {
            "text/plain": [
              "Seq('ATGTTCTCTACACTCTTCGTGGTATTTTCCGCAACACTCCTCAACACCCCCTCA...CAG')"
            ]
          },
          "metadata": {},
          "execution_count": 11
        }
      ]
    },
    {
      "cell_type": "code",
      "source": [
        "mutable_seq = MutableSeq(dna_seq)\n",
        "mutable_seq"
      ],
      "metadata": {
        "colab": {
          "base_uri": "https://localhost:8080/"
        },
        "id": "obTioYBHcFYk",
        "outputId": "d5a7ddf6-62f2-4ad9-92a6-7bef4c869814"
      },
      "execution_count": 12,
      "outputs": [
        {
          "output_type": "execute_result",
          "data": {
            "text/plain": [
              "MutableSeq('ATGTTCTCTACACTCTTCGTGGTATTTTCCGCAACACTCCTCAACACCCCCTCA...CAG')"
            ]
          },
          "metadata": {},
          "execution_count": 12
        }
      ]
    },
    {
      "cell_type": "markdown",
      "source": [
        "**Nonsence** **mutation**"
      ],
      "metadata": {
        "id": "tPzseCK1gd8q"
      }
    },
    {
      "cell_type": "code",
      "source": [
        "# заменим какой-нибудь кодон после стартового на стоп-кодон\n",
        "stop_codon = \"UAA\""
      ],
      "metadata": {
        "id": "RbSlt0TUcFV9"
      },
      "execution_count": 13,
      "outputs": []
    },
    {
      "cell_type": "code",
      "source": [
        "stop = Seq('UAA')\n",
        "stop.transcribe().translate()"
      ],
      "metadata": {
        "colab": {
          "base_uri": "https://localhost:8080/"
        },
        "id": "NxMsobeYcFTg",
        "outputId": "e7ca0ded-e9e8-4f85-a1bf-284a26aa6863"
      },
      "execution_count": 14,
      "outputs": [
        {
          "output_type": "execute_result",
          "data": {
            "text/plain": [
              "Seq('*')"
            ]
          },
          "metadata": {},
          "execution_count": 14
        }
      ]
    },
    {
      "cell_type": "code",
      "source": [
        "# рассмотрим белок из цепи ДНК dna_seq\n",
        "protein = dna_seq.transcribe().translate()\n",
        "protein"
      ],
      "metadata": {
        "colab": {
          "base_uri": "https://localhost:8080/"
        },
        "id": "WfVWE-1WcFQ1",
        "outputId": "ec219fe9-d348-42fb-b71a-ade2488ee5cc"
      },
      "execution_count": 15,
      "outputs": [
        {
          "output_type": "stream",
          "name": "stderr",
          "text": [
            "/usr/local/lib/python3.10/dist-packages/Bio/Seq.py:2880: BiopythonWarning: Partial codon, len(sequence) not a multiple of three. Explicitly trim the sequence or add trailing N before translation. This may become an error in future.\n",
            "  warnings.warn(\n"
          ]
        },
        {
          "output_type": "execute_result",
          "data": {
            "text/plain": [
              "Seq('MFSTLFVVFSATLLNTPSLPLFSNFSNNRRHAIFTRECPYPYIKIGRSLR*IGR...TSY')"
            ]
          },
          "metadata": {},
          "execution_count": 15
        }
      ]
    },
    {
      "cell_type": "code",
      "source": [
        "mutable_seq[9:12] = stop_codon"
      ],
      "metadata": {
        "id": "dx94Ve_FcFN8"
      },
      "execution_count": 16,
      "outputs": []
    },
    {
      "cell_type": "code",
      "source": [
        "nonsense_seq = mutable_seq.transcribe().translate()\n",
        "nonsense_seq"
      ],
      "metadata": {
        "colab": {
          "base_uri": "https://localhost:8080/"
        },
        "id": "DN771EVucFLF",
        "outputId": "c5dd546c-8608-4550-fa3c-7adb42b09441"
      },
      "execution_count": 17,
      "outputs": [
        {
          "output_type": "execute_result",
          "data": {
            "text/plain": [
              "MutableSeq('MFS*LFVVFSATLLNTPSLPLFSNFSNNRRHAIFTRECPYPYIKIGRSLR*IGR...TSY')"
            ]
          },
          "metadata": {},
          "execution_count": 17
        }
      ]
    },
    {
      "cell_type": "markdown",
      "source": [
        "На 4-м триплете появился стоп-кодон.Белок синтезироваться не будет."
      ],
      "metadata": {
        "id": "qE5xtfBlmn2Q"
      }
    },
    {
      "cell_type": "markdown",
      "source": [
        "**Missense** **mutation**"
      ],
      "metadata": {
        "id": "CBulJtpKnFVP"
      }
    },
    {
      "cell_type": "code",
      "source": [
        "mutable_seq = MutableSeq(dna_seq)\n",
        "mutable_seq"
      ],
      "metadata": {
        "id": "PdtD2AiAm0aE",
        "colab": {
          "base_uri": "https://localhost:8080/"
        },
        "outputId": "73ba8996-7e01-4047-cdd4-d1717cace40a"
      },
      "execution_count": 18,
      "outputs": [
        {
          "output_type": "execute_result",
          "data": {
            "text/plain": [
              "MutableSeq('ATGTTCTCTACACTCTTCGTGGTATTTTCCGCAACACTCCTCAACACCCCCTCA...CAG')"
            ]
          },
          "metadata": {},
          "execution_count": 18
        }
      ]
    },
    {
      "cell_type": "code",
      "source": [
        "protein"
      ],
      "metadata": {
        "id": "ooT9QFjGm0XV",
        "colab": {
          "base_uri": "https://localhost:8080/"
        },
        "outputId": "b8bfa79e-69d3-479a-e009-9afac7546d27"
      },
      "execution_count": 19,
      "outputs": [
        {
          "output_type": "execute_result",
          "data": {
            "text/plain": [
              "Seq('MFSTLFVVFSATLLNTPSLPLFSNFSNNRRHAIFTRECPYPYIKIGRSLR*IGR...TSY')"
            ]
          },
          "metadata": {},
          "execution_count": 19
        }
      ]
    },
    {
      "cell_type": "code",
      "source": [
        "# заменим аминокислоту на 4-й позиции\n",
        "mutable_seq[9:12] = 'CAA'\n",
        "missense_seq = mutable_seq.transcribe().translate()\n",
        "missense_seq"
      ],
      "metadata": {
        "id": "SckeXuTTm0U6",
        "colab": {
          "base_uri": "https://localhost:8080/"
        },
        "outputId": "983de2cd-63cb-43d2-b561-98ead6dabaf8"
      },
      "execution_count": 20,
      "outputs": [
        {
          "output_type": "execute_result",
          "data": {
            "text/plain": [
              "MutableSeq('MFSQLFVVFSATLLNTPSLPLFSNFSNNRRHAIFTRECPYPYIKIGRSLR*IGR...TSY')"
            ]
          },
          "metadata": {},
          "execution_count": 20
        }
      ]
    },
    {
      "cell_type": "markdown",
      "source": [
        "**Silent** **mutation**"
      ],
      "metadata": {
        "id": "lg1Z7ODsvt6f"
      }
    },
    {
      "cell_type": "code",
      "source": [
        "mutable_seq = MutableSeq(dna_seq)\n",
        "mutable_seq"
      ],
      "metadata": {
        "id": "bd58L8FSm0QP",
        "colab": {
          "base_uri": "https://localhost:8080/"
        },
        "outputId": "3e84029d-8cda-4e83-abb9-182ed63a2752"
      },
      "execution_count": 21,
      "outputs": [
        {
          "output_type": "execute_result",
          "data": {
            "text/plain": [
              "MutableSeq('ATGTTCTCTACACTCTTCGTGGTATTTTCCGCAACACTCCTCAACACCCCCTCA...CAG')"
            ]
          },
          "metadata": {},
          "execution_count": 21
        }
      ]
    },
    {
      "cell_type": "code",
      "source": [
        "protein"
      ],
      "metadata": {
        "id": "vwidnrJjm0Nh",
        "colab": {
          "base_uri": "https://localhost:8080/"
        },
        "outputId": "e6e6facf-a4e1-42e5-ff6a-1633c10d37db"
      },
      "execution_count": 22,
      "outputs": [
        {
          "output_type": "execute_result",
          "data": {
            "text/plain": [
              "Seq('MFSTLFVVFSATLLNTPSLPLFSNFSNNRRHAIFTRECPYPYIKIGRSLR*IGR...TSY')"
            ]
          },
          "metadata": {},
          "execution_count": 22
        }
      ]
    },
    {
      "cell_type": "code",
      "source": [
        "mutable_seq[9:12]"
      ],
      "metadata": {
        "colab": {
          "base_uri": "https://localhost:8080/"
        },
        "id": "zc9UyQuiv193",
        "outputId": "23532185-d4db-44b7-d6cc-da052d292d8a"
      },
      "execution_count": 23,
      "outputs": [
        {
          "output_type": "execute_result",
          "data": {
            "text/plain": [
              "MutableSeq('ACA')"
            ]
          },
          "metadata": {},
          "execution_count": 23
        }
      ]
    },
    {
      "cell_type": "code",
      "source": [
        "mutable_seq[9:12] = \"ACC\""
      ],
      "metadata": {
        "id": "sZZ9V3Xzv17Q"
      },
      "execution_count": 24,
      "outputs": []
    },
    {
      "cell_type": "code",
      "source": [
        "silent_seq = mutable_seq.transcribe().translate()\n",
        "silent_seq"
      ],
      "metadata": {
        "colab": {
          "base_uri": "https://localhost:8080/"
        },
        "id": "D-PKIhfWv14P",
        "outputId": "58e22c9b-7c6f-482c-8279-2b79277d3fba"
      },
      "execution_count": 25,
      "outputs": [
        {
          "output_type": "execute_result",
          "data": {
            "text/plain": [
              "MutableSeq('MFSTLFVVFSATLLNTPSLPLFSNFSNNRRHAIFTRECPYPYIKIGRSLR*IGR...TSY')"
            ]
          },
          "metadata": {},
          "execution_count": 25
        }
      ]
    },
    {
      "cell_type": "markdown",
      "source": [
        "Благодаря избыточенности генетического кода, замена одного нуктеотида не изменила синтез нужного белка."
      ],
      "metadata": {
        "id": "3dKTfxF9xiAB"
      }
    },
    {
      "cell_type": "markdown",
      "source": [
        "2. Выясните сколько вариантов SNP с клинической значимостью есть для вашего гена."
      ],
      "metadata": {
        "id": "tX1_Y6SJhhaS"
      }
    },
    {
      "cell_type": "code",
      "source": [
        "import sys"
      ],
      "metadata": {
        "id": "rNvqgnVNfb-o"
      },
      "execution_count": 26,
      "outputs": []
    },
    {
      "cell_type": "code",
      "source": [
        "Entrez.email = \"dbsnp-user@nih.gov\"\n",
        "Entrez.api_key = None\n",
        "\n",
        "eShandle = Entrez.esearch(db=\"snp\",  # search dbSNP\n",
        "                          term='A2M[All Fields] AND pathogenic[Clinical_Significance] AND missense variant[Function_Class])',\n",
        "                          # AND (00000.0000[GLOBAL_MAF] : 00000.0100[GLOBAL_MAF])',\n",
        "                          usehistory=\"y\", #cache result on server for download in batches\n",
        "                          retmax=20 # return 20 RSID max\n",
        "                         )\n",
        "eSresult = Entrez.read(eShandle)\n",
        "for k in eSresult:\n",
        "    print (k, \":\", eSresult[k])"
      ],
      "metadata": {
        "colab": {
          "base_uri": "https://localhost:8080/"
        },
        "id": "5ohni0Iffbwc",
        "outputId": "4cf49ca5-c26d-42e7-c38f-80ae836d0238"
      },
      "execution_count": 37,
      "outputs": [
        {
          "output_type": "stream",
          "name": "stdout",
          "text": [
            "Count : 0\n",
            "RetMax : 0\n",
            "RetStart : 0\n",
            "QueryKey : 1\n",
            "WebEnv : MCID_65b3a1ba1f5c995a06566d38\n",
            "IdList : []\n",
            "TranslationSet : []\n",
            "TranslationStack : [{'Term': 'A2M[All Fields]', 'Field': 'All Fields', 'Count': '17597', 'Explode': 'N'}, {'Term': 'pathogenic[Clinical_Significance]', 'Field': 'Clinical_Significance', 'Count': '130269', 'Explode': 'N'}, 'AND', {'Term': 'missense variant[Function_Class]', 'Field': 'Function_Class', 'Count': '10256260', 'Explode': 'N'}, 'AND']\n",
            "QueryTranslation : A2M[All Fields] AND pathogenic[Clinical_Significance] AND missense variant[Function_Class]\n"
          ]
        }
      ]
    },
    {
      "cell_type": "markdown",
      "source": [
        "Для гена A2M патологические изменение не найдены в SNP.\n",
        "Возьмем ген CAD."
      ],
      "metadata": {
        "id": "ItaP9SEbsplK"
      }
    },
    {
      "cell_type": "code",
      "source": [
        "Entrez.email = \"dbsnp-user@nih.gov\"\n",
        "Entrez.api_key = None\n",
        "\n",
        "eShandle = Entrez.esearch(db=\"snp\",  # search dbSNP\n",
        "                          term='CAD[All Fields] AND pathogenic[Clinical_Significance] AND missense variant[Function_Class])',\n",
        "                          # AND (00000.0000[GLOBAL_MAF] : 00000.0100[GLOBAL_MAF])',\n",
        "                          usehistory=\"y\", #cache result on server for download in batches\n",
        "                          retmax=20 # return 20 RSID max\n",
        "                         )"
      ],
      "metadata": {
        "id": "9wrbmX1pfb5Q"
      },
      "execution_count": 38,
      "outputs": []
    },
    {
      "cell_type": "code",
      "source": [
        "eSresult = Entrez.read(eShandle)"
      ],
      "metadata": {
        "id": "GH0VLKbPfb2t"
      },
      "execution_count": 39,
      "outputs": []
    },
    {
      "cell_type": "code",
      "source": [
        "for k in eSresult:\n",
        "    print (k, \":\", eSresult[k])"
      ],
      "metadata": {
        "colab": {
          "base_uri": "https://localhost:8080/"
        },
        "id": "Yhr2Qa5Ffbzr",
        "outputId": "ae9b3aea-022d-4639-b241-eb70a3fb55b5"
      },
      "execution_count": 40,
      "outputs": [
        {
          "output_type": "stream",
          "name": "stdout",
          "text": [
            "Count : 4\n",
            "RetMax : 4\n",
            "RetStart : 0\n",
            "QueryKey : 1\n",
            "WebEnv : MCID_65b3a2ac3a8ecb78e70f40ba\n",
            "IdList : ['1475014505', '766975615', '763410987', '751610198']\n",
            "TranslationSet : []\n",
            "TranslationStack : [{'Term': 'CAD[All Fields]', 'Field': 'All Fields', 'Count': '12552', 'Explode': 'N'}, {'Term': 'pathogenic[Clinical_Significance]', 'Field': 'Clinical_Significance', 'Count': '130269', 'Explode': 'N'}, 'AND', {'Term': 'missense variant[Function_Class]', 'Field': 'Function_Class', 'Count': '10256260', 'Explode': 'N'}, 'AND']\n",
            "QueryTranslation : CAD[All Fields] AND pathogenic[Clinical_Significance] AND missense variant[Function_Class]\n"
          ]
        }
      ]
    },
    {
      "cell_type": "markdown",
      "source": [
        "4 мутации для гена CAD есть в SNP. Патологические и несинанимичные.\n"
      ],
      "metadata": {
        "id": "k0ijuX8Hqq5E"
      }
    },
    {
      "cell_type": "code",
      "source": [
        "from urllib.error import HTTPError"
      ],
      "metadata": {
        "id": "D6aB2PIUuBNG"
      },
      "execution_count": 45,
      "outputs": []
    },
    {
      "cell_type": "code",
      "source": [
        "rslist = (eSresult['IdList'])"
      ],
      "metadata": {
        "id": "VEyZg7Zls4w9"
      },
      "execution_count": 41,
      "outputs": []
    },
    {
      "cell_type": "code",
      "source": [
        "for rs in rslist:\n",
        "    print(rs)"
      ],
      "metadata": {
        "colab": {
          "base_uri": "https://localhost:8080/"
        },
        "id": "WSdgMsYqs4u9",
        "outputId": "26ba03db-3548-4f85-d0bf-7213f77e3dbb"
      },
      "execution_count": 42,
      "outputs": [
        {
          "output_type": "stream",
          "name": "stdout",
          "text": [
            "1475014505\n",
            "766975615\n",
            "763410987\n",
            "751610198\n"
          ]
        }
      ]
    },
    {
      "cell_type": "code",
      "source": [
        "webenv = eSresult[\"WebEnv\"]\n",
        "query_key = eSresult[\"QueryKey\"]\n",
        "total_count = int(eSresult[\"Count\"])\n",
        "query_key = eSresult[\"QueryKey\"]\n",
        "retmax = 2"
      ],
      "metadata": {
        "id": "9k9D_FgUs4sj"
      },
      "execution_count": 43,
      "outputs": []
    },
    {
      "cell_type": "code",
      "source": [
        "fetch_count = 0\n",
        "for start in range(0, total_count, retmax):\n",
        "    end = min(total_count, start+retmax)\n",
        "    print(\"Going to download record %i to %i\" % (start+1, end))\n",
        "    attempt = 0\n",
        "    #fetch_count += 1\n",
        "    while (attempt < 3):\n",
        "        attempt += 1\n",
        "        try:\n",
        "            fetch_handle = Entrez.efetch(db=\"snp\",\n",
        "                                         #rettype=\"uilist\", #available types [uilist | xml (use retmode=xml))\n",
        "                                         retmode=\"xml\",\n",
        "                                         retstart=start,\n",
        "                                         retmax=retmax,\n",
        "                                         webenv=webenv,\n",
        "                                         query_key=query_key )\n",
        "        except HTTPError as err:\n",
        "            if 500 <= err.code <= 599:\n",
        "                print(\"Received error from server %s\" % err)\n",
        "                print(\"Attempt %i of 3\" % attempt)\n",
        "                time.sleep(15)\n",
        "            else:\n",
        "                raise\n",
        "    if (fetch_handle):\n",
        "        #print(fetch_handle)\n",
        "        data = fetch_handle.read()\n",
        "        print(data)\n",
        "        fetch_handle.close()\n"
      ],
      "metadata": {
        "colab": {
          "base_uri": "https://localhost:8080/"
        },
        "id": "HRZSW9Nys4qR",
        "outputId": "ca14f5cc-8d3c-4a56-a43b-c9ab83c200e6"
      },
      "execution_count": 46,
      "outputs": [
        {
          "output_type": "stream",
          "name": "stdout",
          "text": [
            "Going to download record 1 to 2\n",
            "b'<?xml version=\"1.0\" ?>\\n<ExchangeSet xmlns:xsi=\"https://www.w3.org/2001/XMLSchema-instance\" xmlns=\"https://www.ncbi.nlm.nih.gov/SNP/docsum\" xsi:schemaLocation=\"https://www.ncbi.nlm.nih.gov/SNP/docsum ftp://ftp.ncbi.nlm.nih.gov/snp/specs/docsum_eutils.xsd\" ><DocumentSummary uid=\"1475014505\"><SNP_ID>1475014505</SNP_ID><ALLELE_ORIGIN/><GLOBAL_MAFS><MAF><STUDY>GnomAD</STUDY><FREQ>A=0.000007/1</FREQ></MAF><MAF><STUDY>TOMMO</STUDY><FREQ>T=0.00006/1</FREQ></MAF><MAF><STUDY>TOPMED</STUDY><FREQ>A=0.000004/1</FREQ></MAF><MAF><STUDY>ALFA</STUDY><FREQ>A=0./0</FREQ></MAF></GLOBAL_MAFS><GLOBAL_POPULATION/><GLOBAL_SAMPLESIZE>0</GLOBAL_SAMPLESIZE><SUSPECTED/><CLINICAL_SIGNIFICANCE>pathogenic</CLINICAL_SIGNIFICANCE><GENES><GENE_E><NAME>CAD</NAME><GENE_ID>790</GENE_ID></GENE_E></GENES><ACC>NC_000002.12</ACC><CHR>2</CHR><HANDLE>TOMMO_GENOMICS,GNOMAD,TOPMED</HANDLE><SPDI>NC_000002.12:27233314:G:A,NC_000002.12:27233314:G:T</SPDI><FXN_CLASS>coding_sequence_variant,missense_variant</FXN_CLASS><VALIDATED>by-frequency,by-alfa,by-cluster</VALIDATED><DOCSUM>HGVS=NC_000002.12:g.27233315G&gt;A,NC_000002.12:g.27233315G&gt;T,NC_000002.11:g.27456183G&gt;A,NC_000002.11:g.27456183G&gt;T,NG_046394.1:g.20926G&gt;A,NG_046394.1:g.20926G&gt;T,NM_004341.5:c.2995G&gt;A,NM_004341.5:c.2995G&gt;T,NM_004341.4:c.2995G&gt;A,NM_004341.4:c.2995G&gt;T,NM_004341.3:c.2995G&gt;A,NM_004341.3:c.2995G&gt;T,NM_001306079.2:c.2806G&gt;A,NM_001306079.2:c.2806G&gt;T,NM_001306079.1:c.2806G&gt;A,NM_001306079.1:c.2806G&gt;T,XM_006712101.4:c.2806G&gt;A,XM_006712101.4:c.2806G&gt;T,XM_006712101.3:c.2806G&gt;A,XM_006712101.3:c.2806G&gt;T,XM_006712101.2:c.2806G&gt;A,XM_006712101.2:c.2806G&gt;T,XM_006712101.1:c.2806G&gt;A,XM_006712101.1:c.2806G&gt;T,XM_047445803.1:c.2995G&gt;A,XM_047445803.1:c.2995G&gt;T,NP_004332.2:p.Val999Met,NP_004332.2:p.Val999Leu,NP_001293008.1:p.Val936Met,NP_001293008.1:p.Val936Leu,XP_006712164.1:p.Val936Met,XP_006712164.1:p.Val936Leu,XP_047301759.1:p.Val999Met,XP_047301759.1:p.Val999Leu|SEQ=[G/A/T]|LEN=1|GENE=CAD:790</DOCSUM><TAX_ID>9606</TAX_ID><ORIG_BUILD>155</ORIG_BUILD><UPD_BUILD>156</UPD_BUILD><CREATEDATE>2017/11/09 09:55</CREATEDATE><UPDATEDATE>2022/10/17 04:58</UPDATEDATE><SS>4037613773,4498327357,5150413276</SS><ALLELE>D</ALLELE><SNP_CLASS>snv</SNP_CLASS><CHRPOS>2:27233315</CHRPOS><CHRPOS_PREV_ASSM>2:27456183</CHRPOS_PREV_ASSM><TEXT/><SNP_ID_SORT>1475014505</SNP_ID_SORT><CLINICAL_SORT>1</CLINICAL_SORT><CITED_SORT/><CHRPOS_SORT>0027233315</CHRPOS_SORT><MERGED_SORT>0</MERGED_SORT></DocumentSummary>\\n<DocumentSummary uid=\"766975615\"><SNP_ID>766975615</SNP_ID><ALLELE_ORIGIN/><GLOBAL_MAFS><MAF><STUDY>ExAC</STUDY><FREQ>G=0.000008/1</FREQ></MAF></GLOBAL_MAFS><GLOBAL_POPULATION/><GLOBAL_SAMPLESIZE>0</GLOBAL_SAMPLESIZE><SUSPECTED/><CLINICAL_SIGNIFICANCE>pathogenic</CLINICAL_SIGNIFICANCE><GENES><GENE_E><NAME>CAD</NAME><GENE_ID>790</GENE_ID></GENE_E></GENES><ACC>NC_000002.12</ACC><CHR>2</CHR><HANDLE>EVA_EXAC,GNOMAD</HANDLE><SPDI>NC_000002.12:27242105:C:G,NC_000002.12:27242105:C:T</SPDI><FXN_CLASS>stop_gained,missense_variant,coding_sequence_variant</FXN_CLASS><VALIDATED>by-frequency,by-cluster</VALIDATED><DOCSUM>HGVS=NC_000002.12:g.27242106C&gt;G,NC_000002.12:g.27242106C&gt;T,NC_000002.11:g.27464974C&gt;G,NC_000002.11:g.27464974C&gt;T,NG_046394.1:g.29717C&gt;G,NG_046394.1:g.29717C&gt;T,NM_004341.5:c.6079C&gt;G,NM_004341.5:c.6079C&gt;T,NM_004341.4:c.6079C&gt;G,NM_004341.4:c.6079C&gt;T,NM_004341.3:c.6079C&gt;G,NM_004341.3:c.6079C&gt;T,NM_001306079.2:c.5890C&gt;G,NM_001306079.2:c.5890C&gt;T,NM_001306079.1:c.5890C&gt;G,NM_001306079.1:c.5890C&gt;T,XM_006712101.4:c.5941C&gt;G,XM_006712101.4:c.5941C&gt;T,XM_006712101.3:c.5941C&gt;G,XM_006712101.3:c.5941C&gt;T,XM_006712101.2:c.5941C&gt;G,XM_006712101.2:c.5941C&gt;T,XM_006712101.1:c.5941C&gt;G,XM_006712101.1:c.5941C&gt;T,XM_047445803.1:c.6130C&gt;G,XM_047445803.1:c.6130C&gt;T,NP_004332.2:p.Gln2027Glu,NP_004332.2:p.Gln2027Ter,NP_001293008.1:p.Gln1964Glu,NP_001293008.1:p.Gln1964Ter,XP_006712164.1:p.Gln1981Glu,XP_006712164.1:p.Gln1981Ter,XP_047301759.1:p.Gln2044Glu,XP_047301759.1:p.Gln2044Ter|SEQ=[C/G/T]|LEN=1|GENE=CAD:790</DOCSUM><TAX_ID>9606</TAX_ID><ORIG_BUILD>144</ORIG_BUILD><UPD_BUILD>156</UPD_BUILD><CREATEDATE>2015/04/01 22:25</CREATEDATE><UPDATEDATE>2022/10/17 04:58</UPDATEDATE><SS>1686229345,2732544023</SS><ALLELE>B</ALLELE><SNP_CLASS>snv</SNP_CLASS><CHRPOS>2:27242106</CHRPOS><CHRPOS_PREV_ASSM>2:27464974</CHRPOS_PREV_ASSM><TEXT/><SNP_ID_SORT>0766975615</SNP_ID_SORT><CLINICAL_SORT>1</CLINICAL_SORT><CITED_SORT/><CHRPOS_SORT>0027242106</CHRPOS_SORT><MERGED_SORT>0</MERGED_SORT></DocumentSummary>\\n</ExchangeSet>'\n",
            "Going to download record 3 to 4\n",
            "b'<?xml version=\"1.0\" ?>\\n<ExchangeSet xmlns:xsi=\"https://www.w3.org/2001/XMLSchema-instance\" xmlns=\"https://www.ncbi.nlm.nih.gov/SNP/docsum\" xsi:schemaLocation=\"https://www.ncbi.nlm.nih.gov/SNP/docsum ftp://ftp.ncbi.nlm.nih.gov/snp/specs/docsum_eutils.xsd\" ><DocumentSummary uid=\"763410987\"><SNP_ID>763410987</SNP_ID><ALLELE_ORIGIN/><GLOBAL_MAFS><MAF><STUDY>ExAC</STUDY><FREQ>A=0.000008/1</FREQ></MAF><MAF><STUDY>GnomAD</STUDY><FREQ>A=0.000014/2</FREQ></MAF><MAF><STUDY>GnomAD_exomes</STUDY><FREQ>A=0.000012/3</FREQ></MAF><MAF><STUDY>MGP</STUDY><FREQ>A=0.001873/1</FREQ></MAF><MAF><STUDY>TOPMED</STUDY><FREQ>A=0.000019/5</FREQ></MAF><MAF><STUDY>ALFA</STUDY><FREQ>A=0.000056/2</FREQ></MAF></GLOBAL_MAFS><GLOBAL_POPULATION/><GLOBAL_SAMPLESIZE>0</GLOBAL_SAMPLESIZE><SUSPECTED/><CLINICAL_SIGNIFICANCE>pathogenic,uncertain-significance</CLINICAL_SIGNIFICANCE><GENES><GENE_E><NAME>CAD</NAME><GENE_ID>790</GENE_ID></GENE_E></GENES><ACC>NC_000002.12</ACC><CHR>2</CHR><HANDLE>EVA_EXAC,EVA_MGP,TOPMED,GNOMAD</HANDLE><SPDI>NC_000002.12:27242097:G:A</SPDI><FXN_CLASS>missense_variant,coding_sequence_variant</FXN_CLASS><VALIDATED>by-frequency,by-alfa,by-cluster</VALIDATED><DOCSUM>HGVS=NC_000002.12:g.27242098G&gt;A,NC_000002.11:g.27464966G&gt;A,NG_046394.1:g.29709G&gt;A,NM_004341.5:c.6071G&gt;A,NM_004341.4:c.6071G&gt;A,NM_004341.3:c.6071G&gt;A,NM_001306079.2:c.5882G&gt;A,NM_001306079.1:c.5882G&gt;A,XM_006712101.4:c.5933G&gt;A,XM_006712101.3:c.5933G&gt;A,XM_006712101.2:c.5933G&gt;A,XM_006712101.1:c.5933G&gt;A,XM_047445803.1:c.6122G&gt;A,NP_004332.2:p.Arg2024Gln,NP_001293008.1:p.Arg1961Gln,XP_006712164.1:p.Arg1978Gln,XP_047301759.1:p.Arg2041Gln|SEQ=[G/A]|LEN=1|GENE=CAD:790</DOCSUM><TAX_ID>9606</TAX_ID><ORIG_BUILD>144</ORIG_BUILD><UPD_BUILD>156</UPD_BUILD><CREATEDATE>2015/04/01 22:25</CREATEDATE><UPDATEDATE>2022/10/17 04:58</UPDATEDATE><SS>1686229344,1710957387,2732544019,2746644387,2771085596,4498329457</SS><ALLELE>R</ALLELE><SNP_CLASS>snv</SNP_CLASS><CHRPOS>2:27242098</CHRPOS><CHRPOS_PREV_ASSM>2:27464966</CHRPOS_PREV_ASSM><TEXT/><SNP_ID_SORT>0763410987</SNP_ID_SORT><CLINICAL_SORT>1</CLINICAL_SORT><CITED_SORT/><CHRPOS_SORT>0027242098</CHRPOS_SORT><MERGED_SORT>0</MERGED_SORT></DocumentSummary>\\n<DocumentSummary uid=\"751610198\"><SNP_ID>751610198</SNP_ID><ALLELE_ORIGIN/><GLOBAL_MAFS><MAF><STUDY>ExAC</STUDY><FREQ>G=0.000009/1</FREQ></MAF><MAF><STUDY>GnomAD_exomes</STUDY><FREQ>G=0.000004/1</FREQ></MAF><MAF><STUDY>TOPMED</STUDY><FREQ>G=0.000004/1</FREQ></MAF><MAF><STUDY>ALFA</STUDY><FREQ>G=0./0</FREQ></MAF></GLOBAL_MAFS><GLOBAL_POPULATION/><GLOBAL_SAMPLESIZE>0</GLOBAL_SAMPLESIZE><SUSPECTED/><CLINICAL_SIGNIFICANCE>pathogenic-likely-pathogenic,pathogenic</CLINICAL_SIGNIFICANCE><GENES><GENE_E><NAME>CAD</NAME><GENE_ID>790</GENE_ID></GENE_E></GENES><ACC>NC_000002.12</ACC><CHR>2</CHR><HANDLE>HUMAN_LONGEVITY,GNOMAD,EVA_EXAC,TOPMED</HANDLE><SPDI>NC_000002.12:27217891:T:G</SPDI><FXN_CLASS>coding_sequence_variant,missense_variant</FXN_CLASS><VALIDATED>by-frequency,by-alfa,by-cluster</VALIDATED><DOCSUM>HGVS=NC_000002.12:g.27217892T&gt;G,NC_000002.11:g.27440760T&gt;G,NG_046394.1:g.5503T&gt;G,NM_004341.5:c.98T&gt;G,NM_004341.4:c.98T&gt;G,NM_004341.3:c.98T&gt;G,NM_001306079.2:c.98T&gt;G,NM_001306079.1:c.98T&gt;G,XM_006712101.4:c.98T&gt;G,XM_006712101.3:c.98T&gt;G,XM_006712101.2:c.98T&gt;G,XM_006712101.1:c.98T&gt;G,XM_047445803.1:c.98T&gt;G,NP_004332.2:p.Met33Arg,NP_001293008.1:p.Met33Arg,XP_006712164.1:p.Met33Arg,XP_047301759.1:p.Met33Arg|SEQ=[T/G]|LEN=1|GENE=CAD:790</DOCSUM><TAX_ID>9606</TAX_ID><ORIG_BUILD>144</ORIG_BUILD><UPD_BUILD>156</UPD_BUILD><CREATEDATE>2015/04/01 22:25</CREATEDATE><UPDATEDATE>2022/10/17 04:58</UPDATEDATE><SS>1686227663,2228516040,2732541597,4498323183</SS><ALLELE>K</ALLELE><SNP_CLASS>snv</SNP_CLASS><CHRPOS>2:27217892</CHRPOS><CHRPOS_PREV_ASSM>2:27440760</CHRPOS_PREV_ASSM><TEXT/><SNP_ID_SORT>0751610198</SNP_ID_SORT><CLINICAL_SORT>1</CLINICAL_SORT><CITED_SORT/><CHRPOS_SORT>0027217892</CHRPOS_SORT><MERGED_SORT>0</MERGED_SORT></DocumentSummary>\\n</ExchangeSet>'\n"
          ]
        }
      ]
    },
    {
      "cell_type": "code",
      "source": [],
      "metadata": {
        "id": "-P8X0gKJs4n-"
      },
      "execution_count": null,
      "outputs": []
    },
    {
      "cell_type": "code",
      "source": [],
      "metadata": {
        "id": "kP_vqotos4lX"
      },
      "execution_count": null,
      "outputs": []
    },
    {
      "cell_type": "code",
      "source": [],
      "metadata": {
        "id": "MmQt6bRGs4ip"
      },
      "execution_count": null,
      "outputs": []
    }
  ]
}